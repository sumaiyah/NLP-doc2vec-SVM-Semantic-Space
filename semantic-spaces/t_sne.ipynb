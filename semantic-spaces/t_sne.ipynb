{
 "cells": [
  {
   "cell_type": "markdown",
   "metadata": {},
   "source": [
    "# Visualising doc2vec"
   ]
  },
  {
   "cell_type": "markdown",
   "metadata": {},
   "source": [
    "t-Distributed Stochastic Neighbor Embedding (t-SNE) is an unsupervised, non-linear technique primarily used for data exploration and visualizing high-dimensional data. In simpler terms, t-SNE gives you a feel or intuition of how the data is arranged in a high-dimensional space."
   ]
  },
  {
   "cell_type": "markdown",
   "metadata": {},
   "source": [
    "https://towardsdatascience.com/visualising-high-dimensional-datasets-using-pca-and-t-sne-in-python-8ef87e7915b"
   ]
  },
  {
   "cell_type": "code",
   "execution_count": 3,
   "metadata": {},
   "outputs": [],
   "source": [
    "from sklearn.manifold import TSNE\n",
    "import matplotlib.pyplot as plt\n",
    "import pandas as pd\n",
    "\n",
    "from gensim.models.doc2vec import Doc2Vec\n",
    "from gensim.models.callbacks import CallbackAny2Vec\n",
    "class EpochLogger(CallbackAny2Vec):\n",
    "    def __init__(self):\n",
    "        self.epoch = 0\n",
    "\n",
    "    def on_epoch_begin(self, model):\n",
    "        # print('Epoch #{} start'.format(self.epoch))\n",
    "\n",
    "        pass\n",
    "\n",
    "    def on_epoch_end(self, model):\n",
    "        print('Epoch #{} end'.format(self.epoch))\n",
    "        self.epoch += 1"
   ]
  },
  {
   "cell_type": "code",
   "execution_count": 43,
   "metadata": {},
   "outputs": [
    {
     "data": {
      "image/png": "[encoded data removed]",
      "text/plain": [
       "<Figure size 432x288 with 1 Axes>"
      ]
     },
     "metadata": {
      "needs_background": "light"
     },
     "output_type": "display_data"
    }
   ],
   "source": [
    "path_to_models = 'models/'\n",
    "model_name = 'model_1.model'\n",
    "model = Doc2Vec.load(path_to_models + model_name)\n",
    "\n",
    "doc_tags = [x for x in range(0, 200)]\n",
    "X = model[doc_tags]\n",
    "\n",
    "tsne = TSNE(n_components=2)\n",
    "X_tsne = tsne.fit_transform(X)\n",
    "plt.scatter(X_tsne[:,0], X_tsne[:, 1])\n",
    "plt.show()\n",
    "# df = pd.DataFrame(X_tsne, index=doc_tags, columns=['x', 'y'])"
   ]
  },
  {
   "cell_type": "code",
   "execution_count": 5,
   "metadata": {},
   "outputs": [
    {
     "data": {
      "text/plain": [
       "[]"
      ]
     },
     "execution_count": 5,
     "metadata": {},
     "output_type": "execute_result"
    }
   ],
   "source": [
    "path_to_models = 'models/'\n",
    "model_name = 'model_1.model'\n",
    "model = Doc2Vec.load(path_to_models + model_name)\n",
    "doc_tags = list(model.docvecs.doctags.keys())\n",
    "doc_tags\n",
    "\n",
    "# infer_vector lets you take in a newdocument and creates a new 100 dimensional vector to represent it"
   ]
  },
  {
   "cell_type": "markdown",
   "metadata": {},
   "source": [
    "https://towardsdatascience.com/visualising-high-dimensional-datasets-using-pca-and-t-sne-in-python-8ef87e7915b  \n",
    "https://www.scikit-yb.org/en/latest/api/text/tsne.html  \n",
    "https://www.kdnuggets.com/2018/08/introduction-t-sne-python.html  \n",
    "https://towardsdatascience.com/plotting-text-and-image-vectors-using-t-sne-d0e43e55d89  \n",
    "\n",
    "https://books.google.co.uk/books?id=pgyLDwAAQBAJ&pg=PA70&lpg=PA70&dq=20+newsgroups+tsne&source=bl&ots=ZcWQWsLTfa&sig=ACfU3U1Ue8FbQ2yYdbKDgYESYTDZgqFafg&hl=en&sa=X&ved=2ahUKEwiC9a3VlYbmAhXWiVwKHV6LAOUQ6AEwDnoECAoQAQ#v=onepage&q&f=false\n",
    "\n",
    "\n",
    "t-SNE [1] is a tool to visualize high-dimensional data. It converts similarities between data points to joint probabilities and tries to minimize the Kullback-Leibler divergence between the joint probabilities of the low-dimensional embedding and the high-dimensional data. t-SNE has a cost function that is not convex, i.e. with different initializations we can get different results.\n",
    "\n",
    "It is highly recommended to use another dimensionality reduction method (e.g. PCA for dense data or TruncatedSVD for sparse data) to reduce the number of dimensions to a reasonable amount (e.g. 50) if the number of features is very high. This will suppress some noise and speed up the computation of pairwise distances between samples"
   ]
  },
  {
   "cell_type": "code",
   "execution_count": null,
   "metadata": {},
   "outputs": [],
   "source": []
  }
 ],
 "metadata": {
  "kernelspec": {
   "display_name": "Python 3",
   "language": "python",
   "name": "python3"
  },
  "language_info": {
   "codemirror_mode": {
    "name": "ipython",
    "version": 3
   },
   "file_extension": ".py",
   "mimetype": "text/x-python",
   "name": "python",
   "nbconvert_exporter": "python",
   "pygments_lexer": "ipython3",
   "version": "3.6.6"
  }
 },
 "nbformat": 4,
 "nbformat_minor": 4
}
