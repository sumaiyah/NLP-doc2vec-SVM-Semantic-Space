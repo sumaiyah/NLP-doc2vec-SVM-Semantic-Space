{
 "cells": [
  {
   "cell_type": "code",
   "execution_count": 11,
   "metadata": {},
   "outputs": [],
   "source": [
    "import nltk\n",
    "import numpy as np\n",
    "from sklearn.datasets import fetch_20newsgroups\n",
    "\n",
    "from random import shuffle\n",
    "from collections import OrderedDict \n",
    "\n",
    "import string\n",
    "from nltk.corpus import stopwords\n",
    "from nltk import word_tokenize\n",
    "from nltk.stem import PorterStemmer"
   ]
  },
  {
   "cell_type": "code",
   "execution_count": 16,
   "metadata": {},
   "outputs": [],
   "source": [
    "# return list of newsgroup categories\n",
    "def get_categories():\n",
    "    return ['alt.atheism', 'comp.graphics', 'comp.os.ms-windows.misc', 'comp.sys.ibm.pc.hardware', 'comp.sys.mac.hardware', 'comp.windows.x', 'misc.forsale', 'rec.autos', 'rec.motorcycles', 'rec.sport.baseball', 'rec.sport.hockey', 'sci.crypt', 'sci.electronics', 'sci.med', 'sci.space', 'soc.religion.christian', 'talk.politics.guns', 'talk.politics.mideast', 'talk.politics.misc', 'talk.religion.misc']"
   ]
  },
  {
   "cell_type": "code",
   "execution_count": 14,
   "metadata": {},
   "outputs": [],
   "source": [
    "# return dataset and labels as np arrays\n",
    "def get_dataset(n_samples_per_cat: int):\n",
    "    categories = get_categories()\n",
    "    data = np.array([])\n",
    "    labels = np.array([])\n",
    "    current_label = 0\n",
    "    \n",
    "    for category in categories:\n",
    "        ng_category = fetch_20newsgroups(subset='all', shuffle=False, categories=[category])\n",
    "        \n",
    "        # add post contents to dataset\n",
    "        ng_category_contents = ng_category.data[:n_samples_per_cat]\n",
    "        data = np.append(data, ng_category_contents)\n",
    "        \n",
    "        # target attribute is the integer index of the category\n",
    "        labels = np.append(labels, [current_label for x in range(0, len(ng_category_contents))])\n",
    "        current_label += 1\n",
    "\n",
    "    # shuffle elements in dataset\n",
    "    indices = np.arange(len(data))\n",
    "    np.random.shuffle(indices)\n",
    "    data = np.array(data)[indices]\n",
    "    labels = np.array(labels)[indices]\n",
    "   \n",
    "    return data, labels"
   ]
  },
  {
   "cell_type": "code",
   "execution_count": 13,
   "metadata": {},
   "outputs": [],
   "source": [
    "#return doc as a list of cleaned tokens\n",
    "def clean_doc(doc_str, stem=False, rem_punc=False, stop=False, lemmatize=False):    \n",
    "    # Remove punctuations\n",
    "    if rem_punc:\n",
    "        exclude = set(string.punctuation)\n",
    "        doc_str = ''.join(ch for ch in doc_str if ch not in exclude)\n",
    " \n",
    "    tokens = word_tokenize(doc_str)\n",
    "    \n",
    "    if stop:\n",
    "        stop = stopwords.words('english')\n",
    "        tokens =[word for word in tokens if word not in stop]\n",
    "        tokens = [word.lower() for word in tokens]\n",
    "\n",
    "    if stem:\n",
    "        stemmer = PorterStemmer()\n",
    "        tokens = [stemmer.stem(t) for t in tokens]\n",
    "    \n",
    "    return tokens\n",
    "\n",
    "# return list of pre_processed documents\n",
    "def pre_process(document_list, parameters):\n",
    "    preprocessed_document_list = []\n",
    "    \n",
    "    for document in document_list:\n",
    "        cleaned_document = clean_doc(document, **parameters)\n",
    "        preprocessed_document_list.append(cleaned_document)\n",
    "    \n",
    "    return preprocessed_document_list"
   ]
  },
  {
   "cell_type": "code",
   "execution_count": null,
   "metadata": {},
   "outputs": [],
   "source": []
  }
 ],
 "metadata": {
  "kernelspec": {
   "display_name": "Python 3",
   "language": "python",
   "name": "python3"
  },
  "language_info": {
   "codemirror_mode": {
    "name": "ipython",
    "version": 3
   },
   "file_extension": ".py",
   "mimetype": "text/x-python",
   "name": "python",
   "nbconvert_exporter": "python",
   "pygments_lexer": "ipython3",
   "version": "3.6.6"
  }
 },
 "nbformat": 4,
 "nbformat_minor": 4
}
