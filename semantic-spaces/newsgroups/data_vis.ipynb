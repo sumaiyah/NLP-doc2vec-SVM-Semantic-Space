{
 "cells": [
  {
   "cell_type": "markdown",
   "metadata": {},
   "source": [
    "# Data visualisations"
   ]
  },
  {
   "cell_type": "code",
   "execution_count": 4,
   "metadata": {},
   "outputs": [],
   "source": [
    "import matplotlib.patheffects as PathEffects\n",
    "from gensim.models.doc2vec import Doc2Vec\n",
    "import numpy as np\n",
    "from sklearn.manifold import TSNE\n",
    "\n",
    "import seaborn as sns\n",
    "from matplotlib import pyplot as plt\n"
   ]
  },
  {
   "cell_type": "code",
   "execution_count": 1,
   "metadata": {},
   "outputs": [],
   "source": [
    "# Utility function to visualize the outputs of t-SNE\n",
    "def draw_scatter(model_name, tsne_coords, colours):\n",
    "    #choose colour palette with seaborn\n",
    "    num_classes = len(np.unique(colours))\n",
    "    assert num_classes == 20\n",
    "    palette = np.array(sns.color_palette(\"hls\", num_classes))\n",
    "        \n",
    "    # create a scatter plot.\n",
    "    f = plt.figure(figsize=(8, 8))\n",
    "    ax = plt.subplot(aspect='equal')\n",
    "    sc = ax.scatter(tsne_coords[:,0], tsne_coords[:,1], lw=0, s=40, c=palette[colours.astype(np.int)])\n",
    "    plt.xlim(-25, 25)\n",
    "    plt.ylim(-25, 25)\n",
    "    \n",
    "    plt.title('My title')\n",
    "\n",
    "    ax.axis('off')\n",
    "    ax.axis('tight')\n",
    "    \n",
    "    # add the labels for each digit corresponding to the label\n",
    "    txts = []\n",
    "\n",
    "    for i in range(num_classes):\n",
    "\n",
    "        # Position of each label at median of data points.\n",
    "\n",
    "        xtext, ytext = np.median(tsne_coords[colours == i, :], axis=0)\n",
    "        txt = ax.text(xtext, ytext, str(i), fontsize=10)\n",
    "        txt.set_path_effects([\n",
    "            PathEffects.Stroke(linewidth=5, foreground=\"w\"),\n",
    "            PathEffects.Normal()])\n",
    "        txts.append(txt)\n",
    "    \n",
    "    model_fig_name = model_name.split('.')[0] + '_fig.png'\n",
    "    plt.savefig(('figs/'+model_fig_name), dpi=120)"
   ]
  },
  {
   "cell_type": "code",
   "execution_count": 5,
   "metadata": {},
   "outputs": [],
   "source": [
    "def draw_tsne(model_name, doc_vectors, labels):\n",
    "    tsne_coords = TSNE(n_components=2, verbose=1, random_state=0, angle=.99, init='pca').fit_transform(doc_vectors)\n",
    "#     tsne_coords = TSNE(n_components=2).fit_transform(doc_vectors)\n",
    "    \n",
    "    colours = np.asarray([int(labels[i]) for i in range(0, len(labels))])\n",
    "    \n",
    "    draw_scatter(model_name, tsne_coords, colours)"
   ]
  },
  {
   "cell_type": "code",
   "execution_count": null,
   "metadata": {},
   "outputs": [],
   "source": []
  },
  {
   "cell_type": "code",
   "execution_count": null,
   "metadata": {},
   "outputs": [],
   "source": []
  }
 ],
 "metadata": {
  "kernelspec": {
   "display_name": "Python 3",
   "language": "python",
   "name": "python3"
  },
  "language_info": {
   "codemirror_mode": {
    "name": "ipython",
    "version": 3
   },
   "file_extension": ".py",
   "mimetype": "text/x-python",
   "name": "python",
   "nbconvert_exporter": "python",
   "pygments_lexer": "ipython3",
   "version": "3.6.6"
  }
 },
 "nbformat": 4,
 "nbformat_minor": 4
}
